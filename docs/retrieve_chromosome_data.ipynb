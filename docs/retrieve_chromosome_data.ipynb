{
 "cells": [
  {
   "cell_type": "markdown",
   "id": "7912e0a4-7135-4c24-9885-87324b9cce15",
   "metadata": {},
   "source": [
    "# Retrieve chromosome data using GenomeInfo!\n",
    "\n",
    "Using GenomeInfo, we will retrieve the chromosome sizes from mm9!"
   ]
  },
  {
   "cell_type": "code",
   "execution_count": 1,
   "id": "d9fb241d-6729-49f0-85a2-e5e4be69493c",
   "metadata": {},
   "outputs": [
    {
     "name": "stdout",
     "output_type": "stream",
     "text": [
      "/home/alejandro/Documents/projects/forks/genomeinfo\n",
      "Defaulting to user installation because normal site-packages is not writeable\n",
      "Obtaining file:///home/alejandro/Documents/projects/forks/genomeinfo\n",
      "  Installing build dependencies ... \u001b[?25ldone\n",
      "\u001b[?25h  Checking if build backend supports build_editable ... \u001b[?25ldone\n",
      "\u001b[?25h  Getting requirements to build editable ... \u001b[?25ldone\n",
      "\u001b[?25h  Installing backend dependencies ... \u001b[?25ldone\n",
      "\u001b[?25h  Preparing editable metadata (pyproject.toml) ... \u001b[?25ldone\n",
      "\u001b[?25hRequirement already satisfied: numpy<2,>=1.10 in /usr/lib64/python3.11/site-packages (from genomeinfo==0.1.0) (1.24.3)\n",
      "Requirement already satisfied: pandas>=1.3 in /home/alejandro/.local/lib/python3.11/site-packages (from genomeinfo==0.1.0) (1.5.3)\n",
      "Requirement already satisfied: pyarrow>=5.0 in /home/alejandro/.local/lib/python3.11/site-packages (from genomeinfo==0.1.0) (16.1.0)\n",
      "Requirement already satisfied: python-dateutil>=2.8.1 in /usr/lib/python3.11/site-packages (from pandas>=1.3->genomeinfo==0.1.0) (2.8.2)\n",
      "Requirement already satisfied: pytz>=2020.1 in /usr/lib/python3.11/site-packages (from pandas>=1.3->genomeinfo==0.1.0) (2023.3.post1)\n",
      "Requirement already satisfied: six>=1.5 in /usr/lib/python3.11/site-packages (from python-dateutil>=2.8.1->pandas>=1.3->genomeinfo==0.1.0) (1.16.0)\n",
      "Building wheels for collected packages: genomeinfo\n",
      "  Building editable for genomeinfo (pyproject.toml) ... \u001b[?25ldone\n",
      "\u001b[?25h  Created wheel for genomeinfo: filename=genomeinfo-0.1.0-py2.py3-none-any.whl size=2327 sha256=53ce877682e61a6a75f45e4398587bc38f6925a3e3849f59b4be67452f75ddcc\n",
      "  Stored in directory: /tmp/pip-ephem-wheel-cache-xtzikhdz/wheels/4e/cb/e8/0baa7aa991848767127e29ea4738849dea6d2c9bd867edb942\n",
      "Successfully built genomeinfo\n",
      "Installing collected packages: genomeinfo\n",
      "  Attempting uninstall: genomeinfo\n",
      "    Found existing installation: genomeinfo 0.1.0\n",
      "    Uninstalling genomeinfo-0.1.0:\n",
      "      Successfully uninstalled genomeinfo-0.1.0\n",
      "Successfully installed genomeinfo-0.1.0\n"
     ]
    }
   ],
   "source": [
    "# Assumming you are running this from your computer\n",
    "# At this moment, GenomeInfo is not available in pypi yet\n",
    "\n",
    "%cd ../\n",
    "!pip3 install -e ."
   ]
  },
  {
   "cell_type": "code",
   "execution_count": 2,
   "id": "4c02d4aa-41f6-4a3c-ae1a-baaf1f305548",
   "metadata": {},
   "outputs": [],
   "source": [
    "# import GenomeInfo from the package!\n",
    "\n",
    "from genomeinfo import GenomeInfo"
   ]
  },
  {
   "cell_type": "code",
   "execution_count": 3,
   "id": "4e3f6fad-1318-4277-9b04-865a96c45392",
   "metadata": {},
   "outputs": [],
   "source": [
    "# use the connect() method to retrieve our database!\n",
    "\n",
    "db = GenomeInfo.connect()"
   ]
  },
  {
   "cell_type": "code",
   "execution_count": 4,
   "id": "184c2be8-2419-42c5-8aa6-6479a8d33baa",
   "metadata": {},
   "outputs": [
    {
     "name": "stdout",
     "output_type": "stream",
     "text": [
      "Genome Information:\n",
      "===================\n",
      "Species:\n",
      "  - caenorhabditis_elegans, homo_sapiens, mus_musculus, drosophila_melanogaster, danio_rerio, bos_taurus, gallus_gallus, canis_lupus_familiaris\n",
      "\n",
      "Common Names:\n",
      "  - celegans, human, mouse, fruitfly, zebrafish, cow, chicken, dog\n",
      "\n",
      "Assemblies (UCSC):\n",
      "  - ce11, ce6, hg19, hg38, hg17, hg18, mm9, mm10, mm39, mm6, mm7, mm8, dm3, dm6, danRer6, danRer7, danRer10, danRer11, danRer5, bosTau9, galGal7, canFam4, hs1, canFam2, canFam3, canFam6, ROS_Cfam_1.0, galGal3, galGal4, galGal5, galGal6, canFam5\n",
      "\n",
      "Assemblies (NCBI):\n",
      "  - WS144, WBcel215, WBcel235, WS190, WS195, GRCh37, GRCh38, NCBI35, NCBI36, MGSCv37, GRCm38, GRCm39, MGSCv34, MGSCv35, MGSCv36, Release_5, Release_6, Release_6_plus_ISO1_MT, Zv8, Zv9, GRCz10, GRCz11, Zv7, ARS-UCD1.1, ARS-UCD1.2, ARS-UCD1.3, ARS-UCD2.0, bGalGal1.mat.broiler.GRCg7b, UU_Cfam_GSD_1.0, T2T-CHM13, ASM3317019v1, ASM3317019v2, CanFam2.0, CanFam3.1, Dog10K_Boxer_Tasha, ROS_Cfam_1.0, Gallus_gallus-2.1, Gallus_gallus-4.0, Gallus_gallus-5.0, GRCg6, GRCg6a, UMICH_Zoey_3.1, ASM2820141v1\n",
      "\n",
      "Please pick an entry and retrieve your desired data!\n"
     ]
    }
   ],
   "source": [
    "# you can easily see what's inside the database by just running .info()\n",
    "\n",
    "db.info()"
   ]
  },
  {
   "cell_type": "code",
   "execution_count": 5,
   "id": "fd2eb51a-99fe-4050-86f7-deddc6161db2",
   "metadata": {},
   "outputs": [],
   "source": [
    "# to get the chromosome sizes you just need to use .get_chromsizes()\n",
    "# here, we are specifying that we want only assembled chromosomes to bypass scaffolds or unplaced sequences\n",
    "\n",
    "chromsizes = db.get_chromsizes('mm9', roles=[\"assembled\"])\n",
    "chromosomes = list(chromsizes.index)"
   ]
  },
  {
   "cell_type": "code",
   "execution_count": 6,
   "id": "7c4e2b61-6afd-4df3-817f-63a76b70bde8",
   "metadata": {},
   "outputs": [
    {
     "data": {
      "text/plain": [
       "name\n",
       "chr1     197195432\n",
       "chr2     181748087\n",
       "chr3     159599783\n",
       "chr4     155630120\n",
       "chr5     152537259\n",
       "chr6     149517037\n",
       "chr7     152524553\n",
       "chr8     131738871\n",
       "chr9     124076172\n",
       "chr10    129993255\n",
       "chr11    121843856\n",
       "chr12    121257530\n",
       "chr13    120284312\n",
       "chr14    125194864\n",
       "chr15    103494974\n",
       "chr16     98319150\n",
       "chr17     95272651\n",
       "chr18     90772031\n",
       "chr19     61342430\n",
       "chrX     166650296\n",
       "chrY      15902555\n",
       "chrM         16299\n",
       "Name: length, dtype: Int64"
      ]
     },
     "execution_count": 6,
     "metadata": {},
     "output_type": "execute_result"
    }
   ],
   "source": [
    "# let's check out the result!\n",
    "\n",
    "chromsizes"
   ]
  },
  {
   "cell_type": "code",
   "execution_count": 7,
   "id": "73139067-d320-4803-b2c4-8a44673018b7",
   "metadata": {},
   "outputs": [
    {
     "data": {
      "text/plain": [
       "['chr1',\n",
       " 'chr2',\n",
       " 'chr3',\n",
       " 'chr4',\n",
       " 'chr5',\n",
       " 'chr6',\n",
       " 'chr7',\n",
       " 'chr8',\n",
       " 'chr9',\n",
       " 'chr10',\n",
       " 'chr11',\n",
       " 'chr12',\n",
       " 'chr13',\n",
       " 'chr14',\n",
       " 'chr15',\n",
       " 'chr16',\n",
       " 'chr17',\n",
       " 'chr18',\n",
       " 'chr19',\n",
       " 'chrX',\n",
       " 'chrY',\n",
       " 'chrM']"
      ]
     },
     "execution_count": 7,
     "metadata": {},
     "output_type": "execute_result"
    }
   ],
   "source": [
    "chromosomes"
   ]
  }
 ],
 "metadata": {
  "kernelspec": {
   "display_name": "Python 3 (ipykernel)",
   "language": "python",
   "name": "python3"
  },
  "language_info": {
   "codemirror_mode": {
    "name": "ipython",
    "version": 3
   },
   "file_extension": ".py",
   "mimetype": "text/x-python",
   "name": "python",
   "nbconvert_exporter": "python",
   "pygments_lexer": "ipython3",
   "version": "3.11.6"
  }
 },
 "nbformat": 4,
 "nbformat_minor": 5
}
