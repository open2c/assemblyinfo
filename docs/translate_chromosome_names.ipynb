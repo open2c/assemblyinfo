{
 "cells": [
  {
   "cell_type": "markdown",
   "id": "4437fad6-efac-4e45-be44-95209372a90f",
   "metadata": {},
   "source": [
    "# Change between chromosome naming nomenclatures easily!\n",
    "\n",
    "Have problems on chromosome naming nomenclatures? GenomeInfo provides a simple interface to interchange them!"
   ]
  },
  {
   "cell_type": "code",
   "execution_count": 1,
   "id": "7c560ee6-29d5-41ea-805c-d2deda54806d",
   "metadata": {},
   "outputs": [
    {
     "name": "stdout",
     "output_type": "stream",
     "text": [
      "/home/alejandro/Documents/projects/forks/genomeinfo\n",
      "Defaulting to user installation because normal site-packages is not writeable\n",
      "Obtaining file:///home/alejandro/Documents/projects/forks/genomeinfo\n",
      "  Installing build dependencies ... \u001b[?25ldone\n",
      "\u001b[?25h  Checking if build backend supports build_editable ... \u001b[?25ldone\n",
      "\u001b[?25h  Getting requirements to build editable ... \u001b[?25ldone\n",
      "\u001b[?25h  Installing backend dependencies ... \u001b[?25ldone\n",
      "\u001b[?25h  Preparing editable metadata (pyproject.toml) ... \u001b[?25ldone\n",
      "\u001b[?25hRequirement already satisfied: numpy<2,>=1.10 in /usr/lib64/python3.11/site-packages (from genomeinfo==0.1.0) (1.24.3)\n",
      "Requirement already satisfied: pandas>=1.3 in /home/alejandro/.local/lib/python3.11/site-packages (from genomeinfo==0.1.0) (1.5.3)\n",
      "Requirement already satisfied: pyarrow>=5.0 in /home/alejandro/.local/lib/python3.11/site-packages (from genomeinfo==0.1.0) (16.1.0)\n",
      "Requirement already satisfied: python-dateutil>=2.8.1 in /usr/lib/python3.11/site-packages (from pandas>=1.3->genomeinfo==0.1.0) (2.8.2)\n",
      "Requirement already satisfied: pytz>=2020.1 in /usr/lib/python3.11/site-packages (from pandas>=1.3->genomeinfo==0.1.0) (2023.3.post1)\n",
      "Requirement already satisfied: six>=1.5 in /usr/lib/python3.11/site-packages (from python-dateutil>=2.8.1->pandas>=1.3->genomeinfo==0.1.0) (1.16.0)\n",
      "Building wheels for collected packages: genomeinfo\n",
      "  Building editable for genomeinfo (pyproject.toml) ... \u001b[?25ldone\n",
      "\u001b[?25h  Created wheel for genomeinfo: filename=genomeinfo-0.1.0-py2.py3-none-any.whl size=2327 sha256=53ce877682e61a6a75f45e4398587bc38f6925a3e3849f59b4be67452f75ddcc\n",
      "  Stored in directory: /tmp/pip-ephem-wheel-cache-oyr80cjs/wheels/4e/cb/e8/0baa7aa991848767127e29ea4738849dea6d2c9bd867edb942\n",
      "Successfully built genomeinfo\n",
      "Installing collected packages: genomeinfo\n",
      "  Attempting uninstall: genomeinfo\n",
      "    Found existing installation: genomeinfo 0.1.0\n",
      "    Uninstalling genomeinfo-0.1.0:\n",
      "      Successfully uninstalled genomeinfo-0.1.0\n",
      "Successfully installed genomeinfo-0.1.0\n"
     ]
    }
   ],
   "source": [
    "# Assumming you are running this from your computer\n",
    "# At this moment, GenomeInfo is not available in pypi yet\n",
    "\n",
    "%cd ../\n",
    "!pip3 install -e ."
   ]
  },
  {
   "cell_type": "code",
   "execution_count": 2,
   "id": "d4d75d6a-fc2b-40bc-b0c5-db88e929ebc6",
   "metadata": {},
   "outputs": [],
   "source": [
    "# import GenomeInfo from the package!\n",
    "\n",
    "from genomeinfo import GenomeInfo"
   ]
  },
  {
   "cell_type": "code",
   "execution_count": 3,
   "id": "a8445238-e034-4802-a09e-e2d1735cd885",
   "metadata": {},
   "outputs": [],
   "source": [
    "# use the connect() method to retrieve our database!\n",
    "\n",
    "db = GenomeInfo.connect()"
   ]
  },
  {
   "cell_type": "code",
   "execution_count": 4,
   "id": "6dc5c5dd-fcba-445e-ba90-853a429340c1",
   "metadata": {},
   "outputs": [
    {
     "name": "stdout",
     "output_type": "stream",
     "text": [
      "Genome Information:\n",
      "===================\n",
      "Species:\n",
      "  - caenorhabditis_elegans, homo_sapiens, mus_musculus, drosophila_melanogaster, danio_rerio, bos_taurus, gallus_gallus, canis_lupus_familiaris\n",
      "\n",
      "Common Names:\n",
      "  - celegans, human, mouse, fruitfly, zebrafish, cow, chicken, dog\n",
      "\n",
      "Assemblies (UCSC):\n",
      "  - ce11, ce6, hg19, hg38, hg17, hg18, mm9, mm10, mm39, mm6, mm7, mm8, dm3, dm6, danRer6, danRer7, danRer10, danRer11, danRer5, bosTau9, galGal7, canFam4, hs1, canFam2, canFam3, canFam6, ROS_Cfam_1.0, galGal3, galGal4, galGal5, galGal6, canFam5\n",
      "\n",
      "Assemblies (NCBI):\n",
      "  - WS144, WBcel215, WBcel235, WS190, WS195, GRCh37, GRCh38, NCBI35, NCBI36, MGSCv37, GRCm38, GRCm39, MGSCv34, MGSCv35, MGSCv36, Release_5, Release_6, Release_6_plus_ISO1_MT, Zv8, Zv9, GRCz10, GRCz11, Zv7, ARS-UCD1.1, ARS-UCD1.2, ARS-UCD1.3, ARS-UCD2.0, bGalGal1.mat.broiler.GRCg7b, UU_Cfam_GSD_1.0, T2T-CHM13, ASM3317019v1, ASM3317019v2, CanFam2.0, CanFam3.1, Dog10K_Boxer_Tasha, ROS_Cfam_1.0, Gallus_gallus-2.1, Gallus_gallus-4.0, Gallus_gallus-5.0, GRCg6, GRCg6a, UMICH_Zoey_3.1, ASM2820141v1\n",
      "\n",
      "Please pick an entry and retrieve your desired data!\n"
     ]
    }
   ],
   "source": [
    "# you can easily see what's inside the database by just running .info()\n",
    "\n",
    "db.info()"
   ]
  },
  {
   "cell_type": "code",
   "execution_count": 5,
   "id": "42c7b9fc-0312-4f25-b2c3-d4f166c2a03b",
   "metadata": {},
   "outputs": [
    {
     "data": {
      "text/plain": [
       "['1',\n",
       " '2',\n",
       " '3',\n",
       " '4',\n",
       " '5',\n",
       " '6',\n",
       " '7',\n",
       " '8',\n",
       " '9',\n",
       " '10',\n",
       " '11',\n",
       " '12',\n",
       " '13',\n",
       " '14',\n",
       " '15',\n",
       " '16',\n",
       " '17',\n",
       " '18',\n",
       " '19',\n",
       " '20',\n",
       " '21',\n",
       " '22',\n",
       " 'X',\n",
       " 'Y',\n",
       " 'MT']"
      ]
     },
     "execution_count": 5,
     "metadata": {},
     "output_type": "execute_result"
    }
   ],
   "source": [
    "# if you only need GenomeInfo as wrapper to extract names of assembled chromosomes:\n",
    "\n",
    "db.get_chrom_eq(\"hg38\", roles=[\"assembled\"]).ncbi.tolist()"
   ]
  },
  {
   "cell_type": "code",
   "execution_count": 6,
   "id": "5cf13f48-4f7e-41dd-b7bf-414cfaff1eaf",
   "metadata": {},
   "outputs": [
    {
     "data": {
      "text/plain": [
       "['MSCHRUN_CTG1',\n",
       " 'MSCHRUN_CTG13',\n",
       " 'MSCHRUN_CTG14',\n",
       " 'MSCHRUN_CTG21',\n",
       " 'MSCHRUN_CTG2',\n",
       " 'MSCHRUN_CTG22',\n",
       " 'MSCHRUN_CTG19',\n",
       " 'MSCHRUN_CTG16',\n",
       " 'MSCHRUN_CTG3',\n",
       " 'MSCHRUN_CTG20',\n",
       " 'MSCHRUN_CTG4',\n",
       " 'MSCHRUN_CTG5',\n",
       " 'MSCHRUN_CTG6',\n",
       " 'MSCHRUN_CTG7',\n",
       " 'MSCHRUN_CTG17',\n",
       " 'MSCHRUN_CTG18',\n",
       " 'MSCHRUN_CTG9',\n",
       " 'MSCHRUN_CTG10',\n",
       " 'MSCHRUN_CTG11',\n",
       " 'MSCHRUN_CTG12',\n",
       " 'MSCHRUN_CTG15',\n",
       " 'MSCHRUN_CTG23']"
      ]
     },
     "execution_count": 6,
     "metadata": {},
     "output_type": "execute_result"
    }
   ],
   "source": [
    "# what if (for some strange reason) we need the names of unplaced sequences in mm10?\n",
    "\n",
    "db.get_chrom_eq(\"mm10\", roles=[\"unplaced\"]).ncbi.tolist()"
   ]
  },
  {
   "cell_type": "code",
   "execution_count": 7,
   "id": "88927824-be4d-404f-b754-32eac4d3a65b",
   "metadata": {},
   "outputs": [
    {
     "data": {
      "text/plain": [
       "['chr1_GL456210_random',\n",
       " 'chr1_GL456211_random',\n",
       " 'chr1_GL456212_random',\n",
       " 'chr1_GL456213_random',\n",
       " 'chr1_GL456221_random',\n",
       " 'chr4_GL456216_random',\n",
       " 'chr4_GL456350_random',\n",
       " 'chr4_JH584292_random',\n",
       " 'chr4_JH584293_random',\n",
       " 'chr4_JH584294_random',\n",
       " 'chr4_JH584295_random',\n",
       " 'chr5_GL456354_random',\n",
       " 'chr5_JH584296_random',\n",
       " 'chr5_JH584297_random',\n",
       " 'chr5_JH584298_random',\n",
       " 'chr5_JH584299_random',\n",
       " 'chr7_GL456219_random',\n",
       " 'chrX_GL456233_random',\n",
       " 'chrY_JH584300_random',\n",
       " 'chrY_JH584301_random',\n",
       " 'chrY_JH584302_random',\n",
       " 'chrY_JH584303_random',\n",
       " 'chrUn_GL456239',\n",
       " 'chrUn_GL456359',\n",
       " 'chrUn_GL456360',\n",
       " 'chrUn_GL456366',\n",
       " 'chrUn_GL456367',\n",
       " 'chrUn_GL456368',\n",
       " 'chrUn_GL456370',\n",
       " 'chrUn_GL456372',\n",
       " 'chrUn_GL456378',\n",
       " 'chrUn_GL456379',\n",
       " 'chrUn_GL456381',\n",
       " 'chrUn_GL456382',\n",
       " 'chrUn_GL456383',\n",
       " 'chrUn_GL456385',\n",
       " 'chrUn_GL456387',\n",
       " 'chrUn_GL456389',\n",
       " 'chrUn_GL456390',\n",
       " 'chrUn_GL456392',\n",
       " 'chrUn_GL456393',\n",
       " 'chrUn_GL456394',\n",
       " 'chrUn_GL456396',\n",
       " 'chrUn_JH584304']"
      ]
     },
     "execution_count": 7,
     "metadata": {},
     "output_type": "execute_result"
    }
   ],
   "source": [
    "# now unplace and unlocalized sequences, but in UCSC format?\n",
    "\n",
    "db.get_chrom_eq(\"mm10\", roles=[\"unplaced\", \"unlocalized\"]).name.tolist()"
   ]
  }
 ],
 "metadata": {
  "kernelspec": {
   "display_name": "Python 3 (ipykernel)",
   "language": "python",
   "name": "python3"
  },
  "language_info": {
   "codemirror_mode": {
    "name": "ipython",
    "version": 3
   },
   "file_extension": ".py",
   "mimetype": "text/x-python",
   "name": "python",
   "nbconvert_exporter": "python",
   "pygments_lexer": "ipython3",
   "version": "3.11.6"
  }
 },
 "nbformat": 4,
 "nbformat_minor": 5
}
