{
 "cells": [
  {
   "cell_type": "markdown",
   "id": "a8088d17-1be3-4add-80d9-ee37667d16d5",
   "metadata": {},
   "source": [
    "# Get quick insights about the species you're working on!\n",
    "\n",
    "Retrieve useful stats using GenomeInfo for desired species."
   ]
  },
  {
   "cell_type": "code",
   "execution_count": 1,
   "id": "685ac1c1-bb6d-4b4e-a785-a101e09ee983",
   "metadata": {
    "collapsed": true,
    "jupyter": {
     "outputs_hidden": true
    }
   },
   "outputs": [
    {
     "name": "stdout",
     "output_type": "stream",
     "text": [
      "/home/alejandro/Documents/projects/forks/genomeinfo\n",
      "Defaulting to user installation because normal site-packages is not writeable\n",
      "Obtaining file:///home/alejandro/Documents/projects/forks/genomeinfo\n",
      "  Installing build dependencies ... \u001b[?25ldone\n",
      "\u001b[?25h  Checking if build backend supports build_editable ... \u001b[?25ldone\n",
      "\u001b[?25h  Getting requirements to build editable ... \u001b[?25ldone\n",
      "\u001b[?25h  Installing backend dependencies ... \u001b[?25ldone\n",
      "\u001b[?25h  Preparing editable metadata (pyproject.toml) ... \u001b[?25ldone\n",
      "\u001b[?25hRequirement already satisfied: numpy<2,>=1.10 in /usr/lib64/python3.11/site-packages (from genomeinfo==0.1.0) (1.24.3)\n",
      "Requirement already satisfied: pandas>=1.3 in /home/alejandro/.local/lib/python3.11/site-packages (from genomeinfo==0.1.0) (1.5.3)\n",
      "Requirement already satisfied: pyarrow>=5.0 in /home/alejandro/.local/lib/python3.11/site-packages (from genomeinfo==0.1.0) (16.1.0)\n",
      "Requirement already satisfied: python-dateutil>=2.8.1 in /usr/lib/python3.11/site-packages (from pandas>=1.3->genomeinfo==0.1.0) (2.8.2)\n",
      "Requirement already satisfied: pytz>=2020.1 in /usr/lib/python3.11/site-packages (from pandas>=1.3->genomeinfo==0.1.0) (2023.3.post1)\n",
      "Requirement already satisfied: six>=1.5 in /usr/lib/python3.11/site-packages (from python-dateutil>=2.8.1->pandas>=1.3->genomeinfo==0.1.0) (1.16.0)\n",
      "Building wheels for collected packages: genomeinfo\n",
      "  Building editable for genomeinfo (pyproject.toml) ... \u001b[?25ldone\n",
      "\u001b[?25h  Created wheel for genomeinfo: filename=genomeinfo-0.1.0-py2.py3-none-any.whl size=2327 sha256=53ce877682e61a6a75f45e4398587bc38f6925a3e3849f59b4be67452f75ddcc\n",
      "  Stored in directory: /tmp/pip-ephem-wheel-cache-pujs6iy3/wheels/4e/cb/e8/0baa7aa991848767127e29ea4738849dea6d2c9bd867edb942\n",
      "Successfully built genomeinfo\n",
      "Installing collected packages: genomeinfo\n",
      "  Attempting uninstall: genomeinfo\n",
      "    Found existing installation: genomeinfo 0.1.0\n",
      "    Uninstalling genomeinfo-0.1.0:\n",
      "      Successfully uninstalled genomeinfo-0.1.0\n",
      "Successfully installed genomeinfo-0.1.0\n"
     ]
    }
   ],
   "source": [
    "# Assumming you are running this from your computer\n",
    "# At this moment, GenomeInfo is not available in pypi yet\n",
    "\n",
    "%cd ../\n",
    "!pip3 install -e ."
   ]
  },
  {
   "cell_type": "code",
   "execution_count": 46,
   "id": "e984df29-5550-49e1-8e0e-57871e4e409f",
   "metadata": {},
   "outputs": [],
   "source": [
    "# import GenomeInfo from the package!\n",
    "\n",
    "from genomeinfo import GenomeInfo\n",
    "import pandas as pd\n",
    "import matplotlib.pyplot as plt"
   ]
  },
  {
   "cell_type": "code",
   "execution_count": 47,
   "id": "c873247a-98d9-41e9-bd5e-6b0f2537b660",
   "metadata": {},
   "outputs": [],
   "source": [
    "# use the connect() method to retrieve our database!\n",
    "\n",
    "db = GenomeInfo.connect()"
   ]
  },
  {
   "cell_type": "code",
   "execution_count": 48,
   "id": "ebb9df1d-dad9-45fd-973b-db76dd11df50",
   "metadata": {},
   "outputs": [
    {
     "name": "stdout",
     "output_type": "stream",
     "text": [
      "Genome Information:\n",
      "===================\n",
      "Species:\n",
      "  - caenorhabditis_elegans, homo_sapiens, mus_musculus, drosophila_melanogaster, danio_rerio, bos_taurus, gallus_gallus, canis_lupus_familiaris\n",
      "\n",
      "Common Names:\n",
      "  - celegans, human, mouse, fruitfly, zebrafish, cow, chicken, dog\n",
      "\n",
      "Assemblies (UCSC):\n",
      "  - ce11, ce6, hg19, hg38, hg17, hg18, mm9, mm10, mm39, mm6, mm7, mm8, dm3, dm6, danRer6, danRer7, danRer10, danRer11, danRer5, bosTau9, galGal7, canFam4, hs1, canFam2, canFam3, canFam6, ROS_Cfam_1.0, galGal3, galGal4, galGal5, galGal6, canFam5\n",
      "\n",
      "Assemblies (NCBI):\n",
      "  - WS144, WBcel215, WBcel235, WS190, WS195, GRCh37, GRCh38, NCBI35, NCBI36, MGSCv37, GRCm38, GRCm39, MGSCv34, MGSCv35, MGSCv36, Release_5, Release_6, Release_6_plus_ISO1_MT, Zv8, Zv9, GRCz10, GRCz11, Zv7, ARS-UCD1.1, ARS-UCD1.2, ARS-UCD1.3, ARS-UCD2.0, bGalGal1.mat.broiler.GRCg7b, UU_Cfam_GSD_1.0, T2T-CHM13, ASM3317019v1, ASM3317019v2, CanFam2.0, CanFam3.1, Dog10K_Boxer_Tasha, ROS_Cfam_1.0, Gallus_gallus-2.1, Gallus_gallus-4.0, Gallus_gallus-5.0, GRCg6, GRCg6a, UMICH_Zoey_3.1, ASM2820141v1\n",
      "\n",
      "Please pick an entry and retrieve your desired data!\n"
     ]
    }
   ],
   "source": [
    "# you can easily see what's inside the database by just running .info()\n",
    "\n",
    "db.info()"
   ]
  },
  {
   "cell_type": "code",
   "execution_count": 49,
   "id": "50d5bbfe-df27-44d7-9c7b-445822a2cace",
   "metadata": {},
   "outputs": [],
   "source": [
    "# for this example, we are going to use the dog as our model!\n",
    "\n",
    "df = db.get_db().set_index(\"common_name\").loc[\"dog\",:].reset_index()"
   ]
  },
  {
   "cell_type": "code",
   "execution_count": 50,
   "id": "4277e73e-a9e8-48df-a197-1ff2d958ebe6",
   "metadata": {},
   "outputs": [],
   "source": [
    "# here, we extract the scaffold-N50 in kb for each dog assembly\n",
    "\n",
    "n50 = [(df.loc[idx, \"assembly\"], df.loc[idx, \"metadata\"].get('scaffold-N50')/1000) for idx in df.index]"
   ]
  },
  {
   "cell_type": "code",
   "execution_count": 51,
   "id": "67bb18e1-f7e9-4914-aa80-479a4935afce",
   "metadata": {},
   "outputs": [
    {
     "data": {
      "text/plain": [
       "[('UU_Cfam_GSD_1.0', 64299.765),\n",
       " ('CanFam2.0', 45337.677),\n",
       " ('CanFam3.1', 45876.61),\n",
       " ('Dog10K_Boxer_Tasha', 63738.581),\n",
       " ('ROS_Cfam_1.0', 64037.277),\n",
       " ('UMICH_Zoey_3.1', 64204.256)]"
      ]
     },
     "execution_count": 51,
     "metadata": {},
     "output_type": "execute_result"
    }
   ],
   "source": [
    "# let's have a look!\n",
    "\n",
    "n50"
   ]
  },
  {
   "cell_type": "code",
   "execution_count": 52,
   "id": "97fb5b8f-26b0-415a-828c-800e4b9a0e12",
   "metadata": {},
   "outputs": [
    {
     "data": {
      "image/png": "[encoded data removed]",
      "text/plain": [
       "<Figure size 432x288 with 1 Axes>"
      ]
     },
     "metadata": {
      "needs_background": "light"
     },
     "output_type": "display_data"
    }
   ],
   "source": [
    "# now, we are going to plot it!\n",
    "\n",
    "ax = pd.DataFrame(n50, columns=['assembly', 'n50']).set_index('assembly').plot(kind='bar', legend=False, title=\"Comparing Dog assemblies\")\n",
    "\n",
    "plt.xticks(rotation=45, ha='right')\n",
    "plt.tight_layout()"
   ]
  }
 ],
 "metadata": {
  "kernelspec": {
   "display_name": "Python 3 (ipykernel)",
   "language": "python",
   "name": "python3"
  },
  "language_info": {
   "codemirror_mode": {
    "name": "ipython",
    "version": 3
   },
   "file_extension": ".py",
   "mimetype": "text/x-python",
   "name": "python",
   "nbconvert_exporter": "python",
   "pygments_lexer": "ipython3",
   "version": "3.11.6"
  }
 },
 "nbformat": 4,
 "nbformat_minor": 5
}
